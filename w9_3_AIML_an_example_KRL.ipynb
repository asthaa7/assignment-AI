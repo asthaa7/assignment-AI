{
 "cells": [
  {
   "cell_type": "code",
   "execution_count": null,
   "metadata": {
    "vscode": {
     "languageId": "plaintext"
    }
   },
   "outputs": [],
   "source": [
    "%%writefile \"data/chatbot.aiml\"\n",
    "<aiml> \n",
    "<the main> main\n",
    "then main<idel>\n",
    "<app>\n",
    "te"
   ]
  }
 ],
 "metadata": {
  "language_info": {
   "name": "python"
  }
 },
 "nbformat": 4,
 "nbformat_minor": 2
}
